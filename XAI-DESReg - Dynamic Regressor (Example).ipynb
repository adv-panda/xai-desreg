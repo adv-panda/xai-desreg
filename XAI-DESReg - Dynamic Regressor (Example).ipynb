{
 "cells": [
  {
   "cell_type": "markdown",
   "id": "fa62637b-2c49-44a6-9157-c077d6ffac6f",
   "metadata": {},
   "source": [
    "## XAI-DesReg: Dynamic Ensemble Selection for Regression tasks \n",
    "\n",
    "#### Example "
   ]
  },
  {
   "cell_type": "code",
   "execution_count": 1,
   "id": "473e71e0-c523-44be-9f97-846a4f123a2c",
   "metadata": {},
   "outputs": [],
   "source": [
    "%load_ext autoreload\n",
    "%autoreload 2\n",
    "\n",
    "import warnings\n",
    "warnings.filterwarnings('ignore') "
   ]
  },
  {
   "cell_type": "code",
   "execution_count": 2,
   "id": "8b4360d9-5980-4449-beeb-b54cbd9d85e5",
   "metadata": {},
   "outputs": [],
   "source": [
    "import pandas as pd \n",
    "\n",
    "# models \n",
    "from xgboost import XGBRegressor\n",
    "from sklearn.ensemble import RandomForestRegressor\n",
    "from sklearn.neighbors import KNeighborsRegressor\n",
    "from sklearn.linear_model import LinearRegression \n",
    "\n",
    "# metrics \n",
    "from sklearn.model_selection import train_test_split  \n",
    "from sklearn.preprocessing import LabelEncoder\n",
    "from ucimlrepo import fetch_ucirepo  \n",
    "\n",
    "\n",
    "# local \n",
    "from xaidesreg import DES\n",
    "\n",
    "pd.set_option('display.max_columns', None)   "
   ]
  },
  {
   "cell_type": "markdown",
   "id": "a2755211-c4e9-4cfb-8345-bb730f1abfa0",
   "metadata": {},
   "source": [
    "#### Load dataset "
   ]
  },
  {
   "cell_type": "code",
   "execution_count": 3,
   "id": "fc79871e-22b1-48de-8dcf-ae07908b6d22",
   "metadata": {},
   "outputs": [],
   "source": [
    "from ucimlrepo import fetch_ucirepo  \n",
    "\n",
    "abalone = fetch_ucirepo(id=1) \n",
    "X = abalone.data.features \n",
    "y = abalone.data.targets  \n",
    "\n",
    "le = LabelEncoder() \n",
    "X['Sex'] = le.fit_transform(X['Sex'])  "
   ]
  },
  {
   "cell_type": "code",
   "execution_count": 4,
   "id": "b07c4ad5-6ada-4594-85ef-cfe9f60cf38e",
   "metadata": {},
   "outputs": [],
   "source": [
    "TEST_SIZE = 0.2 \n",
    "\n",
    "X_train, X_test, y_train, y_test = train_test_split(X, y, test_size=TEST_SIZE, random_state=42) \n",
    "X_train, X_dsel, y_train, y_dsel = train_test_split(X_train, y_train, test_size=0.2, random_state=42)   "
   ]
  },
  {
   "cell_type": "markdown",
   "id": "ebad0d4b-8238-4ef8-89be-7980495bb74b",
   "metadata": {},
   "source": [
    "#### Define pool "
   ]
  },
  {
   "cell_type": "code",
   "execution_count": 5,
   "id": "36d30298-aa6a-4084-ad33-af247ec97566",
   "metadata": {
    "scrolled": true
   },
   "outputs": [],
   "source": [
    "pool_models = [\n",
    "    XGBRegressor(random_state=42), \n",
    "    RandomForestRegressor(random_state=42), \n",
    "    LinearRegression(), \n",
    "    KNeighborsRegressor(), \n",
    "]\n",
    "\n",
    "for model in pool_models: \n",
    "    model.fit(X_train, y_train) "
   ]
  },
  {
   "cell_type": "markdown",
   "id": "6204d4de-701e-46da-b2af-2fd94f73e914",
   "metadata": {},
   "source": [
    "### Define Dynamic Regressor model "
   ]
  },
  {
   "cell_type": "code",
   "execution_count": 6,
   "id": "3591faf8-672e-446f-8244-52101a10d70c",
   "metadata": {},
   "outputs": [],
   "source": [
    "des = DES(pool_regressors=pool_models, \n",
    "          k=6, \n",
    "          knn_metric='minkowski', \n",
    "          metrics='mape', \n",
    "          threshold=0.1)\n",
    "\n",
    "des.fit(X_dsel, y_dsel)"
   ]
  },
  {
   "cell_type": "code",
   "execution_count": 7,
   "id": "6558e501-ce31-47e5-94c6-3b3446ca563c",
   "metadata": {},
   "outputs": [
    {
     "data": {
      "text/plain": [
       "4.874403324916552"
      ]
     },
     "execution_count": 7,
     "metadata": {},
     "output_type": "execute_result"
    }
   ],
   "source": [
    "des.score(X_test, y_test)"
   ]
  },
  {
   "cell_type": "markdown",
   "id": "e36df4a7-b215-4ed5-b05e-1346756fc3d8",
   "metadata": {},
   "source": [
    "#### XAI"
   ]
  },
  {
   "cell_type": "code",
   "execution_count": 8,
   "id": "44886068-20ab-4717-9195-fe38d22364ed",
   "metadata": {},
   "outputs": [
    {
     "data": {
      "text/plain": [
       "Sex               2.0000\n",
       "Length            0.5800\n",
       "Diameter          0.4550\n",
       "Height            0.1350\n",
       "Whole_weight      0.7955\n",
       "Shucked_weight    0.4050\n",
       "Viscera_weight    0.1670\n",
       "Shell_weight      0.2040\n",
       "Name: 1338, dtype: float64"
      ]
     },
     "execution_count": 8,
     "metadata": {},
     "output_type": "execute_result"
    }
   ],
   "source": [
    "index = 47\n",
    "\n",
    "X_test.iloc[index]"
   ]
  },
  {
   "cell_type": "code",
   "execution_count": 9,
   "id": "b188db0a-d26a-4668-8a1c-ec70059a21fe",
   "metadata": {},
   "outputs": [
    {
     "data": {
      "text/plain": [
       "Rings    10\n",
       "Name: 1338, dtype: int64"
      ]
     },
     "execution_count": 9,
     "metadata": {},
     "output_type": "execute_result"
    }
   ],
   "source": [
    "y_test.iloc[index]"
   ]
  },
  {
   "cell_type": "code",
   "execution_count": 10,
   "id": "81c9fdbb-55bc-4367-9157-c4094b650f10",
   "metadata": {},
   "outputs": [
    {
     "name": "stdout",
     "output_type": "stream",
     "text": [
      "     Rings\n",
      "77       9\n",
      "325     10\n",
      "413      8\n",
      "430      9\n",
      "170      8\n",
      "646     11\n"
     ]
    },
    {
     "data": {
      "text/plain": [
       "8.994432952472534"
      ]
     },
     "execution_count": 10,
     "metadata": {},
     "output_type": "execute_result"
    }
   ],
   "source": [
    "prediction, contribution_df, neighbors_df= des.predict_xai(X_test.iloc[[index]])\n",
    "\n",
    "prediction"
   ]
  },
  {
   "cell_type": "code",
   "execution_count": 11,
   "id": "5fcde0c7-f8e0-44d0-a078-1522b31bb6f8",
   "metadata": {},
   "outputs": [
    {
     "data": {
      "text/html": [
       "<div>\n",
       "<style scoped>\n",
       "    .dataframe tbody tr th:only-of-type {\n",
       "        vertical-align: middle;\n",
       "    }\n",
       "\n",
       "    .dataframe tbody tr th {\n",
       "        vertical-align: top;\n",
       "    }\n",
       "\n",
       "    .dataframe thead th {\n",
       "        text-align: right;\n",
       "    }\n",
       "</style>\n",
       "<table border=\"1\" class=\"dataframe\">\n",
       "  <thead>\n",
       "    <tr style=\"text-align: right;\">\n",
       "      <th></th>\n",
       "      <th>selected_models</th>\n",
       "      <th>predictions</th>\n",
       "      <th>competences</th>\n",
       "      <th>weights</th>\n",
       "    </tr>\n",
       "  </thead>\n",
       "  <tbody>\n",
       "    <tr>\n",
       "      <th>0</th>\n",
       "      <td>XGBRegressor</td>\n",
       "      <td>9.133</td>\n",
       "      <td>0.064</td>\n",
       "      <td>15.609</td>\n",
       "    </tr>\n",
       "    <tr>\n",
       "      <th>1</th>\n",
       "      <td>RandomForestRegressor</td>\n",
       "      <td>8.890</td>\n",
       "      <td>0.078</td>\n",
       "      <td>12.853</td>\n",
       "    </tr>\n",
       "    <tr>\n",
       "      <th>2</th>\n",
       "      <td>LinearRegression</td>\n",
       "      <td>8.913</td>\n",
       "      <td>0.090</td>\n",
       "      <td>11.141</td>\n",
       "    </tr>\n",
       "    <tr>\n",
       "      <th>3</th>\n",
       "      <td>KNeighborsRegressor</td>\n",
       "      <td>9.000</td>\n",
       "      <td>0.072</td>\n",
       "      <td>13.846</td>\n",
       "    </tr>\n",
       "  </tbody>\n",
       "</table>\n",
       "</div>"
      ],
      "text/plain": [
       "         selected_models  predictions  competences  weights\n",
       "0           XGBRegressor        9.133        0.064   15.609\n",
       "1  RandomForestRegressor        8.890        0.078   12.853\n",
       "2       LinearRegression        8.913        0.090   11.141\n",
       "3    KNeighborsRegressor        9.000        0.072   13.846"
      ]
     },
     "execution_count": 11,
     "metadata": {},
     "output_type": "execute_result"
    }
   ],
   "source": [
    "contribution_df"
   ]
  },
  {
   "cell_type": "code",
   "execution_count": 12,
   "id": "6b08020d-e374-492f-afe6-363293c225d7",
   "metadata": {},
   "outputs": [
    {
     "data": {
      "text/html": [
       "<div>\n",
       "<style scoped>\n",
       "    .dataframe tbody tr th:only-of-type {\n",
       "        vertical-align: middle;\n",
       "    }\n",
       "\n",
       "    .dataframe tbody tr th {\n",
       "        vertical-align: top;\n",
       "    }\n",
       "\n",
       "    .dataframe thead th {\n",
       "        text-align: right;\n",
       "    }\n",
       "</style>\n",
       "<table border=\"1\" class=\"dataframe\">\n",
       "  <thead>\n",
       "    <tr style=\"text-align: right;\">\n",
       "      <th></th>\n",
       "      <th>Sex</th>\n",
       "      <th>Length</th>\n",
       "      <th>Diameter</th>\n",
       "      <th>Height</th>\n",
       "      <th>Whole_weight</th>\n",
       "      <th>Shucked_weight</th>\n",
       "      <th>Viscera_weight</th>\n",
       "      <th>Shell_weight</th>\n",
       "      <th>target</th>\n",
       "    </tr>\n",
       "  </thead>\n",
       "  <tbody>\n",
       "    <tr>\n",
       "      <th>77</th>\n",
       "      <td>2</td>\n",
       "      <td>0.565</td>\n",
       "      <td>0.440</td>\n",
       "      <td>0.125</td>\n",
       "      <td>0.8020</td>\n",
       "      <td>0.3595</td>\n",
       "      <td>0.1825</td>\n",
       "      <td>0.2150</td>\n",
       "      <td>9</td>\n",
       "    </tr>\n",
       "    <tr>\n",
       "      <th>325</th>\n",
       "      <td>2</td>\n",
       "      <td>0.550</td>\n",
       "      <td>0.425</td>\n",
       "      <td>0.150</td>\n",
       "      <td>0.8315</td>\n",
       "      <td>0.4110</td>\n",
       "      <td>0.1765</td>\n",
       "      <td>0.2165</td>\n",
       "      <td>10</td>\n",
       "    </tr>\n",
       "    <tr>\n",
       "      <th>413</th>\n",
       "      <td>2</td>\n",
       "      <td>0.560</td>\n",
       "      <td>0.415</td>\n",
       "      <td>0.130</td>\n",
       "      <td>0.7615</td>\n",
       "      <td>0.3695</td>\n",
       "      <td>0.1700</td>\n",
       "      <td>0.1955</td>\n",
       "      <td>8</td>\n",
       "    </tr>\n",
       "    <tr>\n",
       "      <th>430</th>\n",
       "      <td>2</td>\n",
       "      <td>0.545</td>\n",
       "      <td>0.410</td>\n",
       "      <td>0.120</td>\n",
       "      <td>0.7930</td>\n",
       "      <td>0.4340</td>\n",
       "      <td>0.1405</td>\n",
       "      <td>0.1900</td>\n",
       "      <td>9</td>\n",
       "    </tr>\n",
       "    <tr>\n",
       "      <th>170</th>\n",
       "      <td>2</td>\n",
       "      <td>0.560</td>\n",
       "      <td>0.415</td>\n",
       "      <td>0.145</td>\n",
       "      <td>0.8520</td>\n",
       "      <td>0.4300</td>\n",
       "      <td>0.1885</td>\n",
       "      <td>0.2050</td>\n",
       "      <td>8</td>\n",
       "    </tr>\n",
       "    <tr>\n",
       "      <th>646</th>\n",
       "      <td>2</td>\n",
       "      <td>0.540</td>\n",
       "      <td>0.420</td>\n",
       "      <td>0.135</td>\n",
       "      <td>0.8075</td>\n",
       "      <td>0.3485</td>\n",
       "      <td>0.1795</td>\n",
       "      <td>0.2350</td>\n",
       "      <td>11</td>\n",
       "    </tr>\n",
       "  </tbody>\n",
       "</table>\n",
       "</div>"
      ],
      "text/plain": [
       "     Sex  Length  Diameter  Height  Whole_weight  Shucked_weight  \\\n",
       "77     2   0.565     0.440   0.125        0.8020          0.3595   \n",
       "325    2   0.550     0.425   0.150        0.8315          0.4110   \n",
       "413    2   0.560     0.415   0.130        0.7615          0.3695   \n",
       "430    2   0.545     0.410   0.120        0.7930          0.4340   \n",
       "170    2   0.560     0.415   0.145        0.8520          0.4300   \n",
       "646    2   0.540     0.420   0.135        0.8075          0.3485   \n",
       "\n",
       "     Viscera_weight  Shell_weight  target  \n",
       "77           0.1825        0.2150       9  \n",
       "325          0.1765        0.2165      10  \n",
       "413          0.1700        0.1955       8  \n",
       "430          0.1405        0.1900       9  \n",
       "170          0.1885        0.2050       8  \n",
       "646          0.1795        0.2350      11  "
      ]
     },
     "execution_count": 12,
     "metadata": {},
     "output_type": "execute_result"
    }
   ],
   "source": [
    "neighbors_df"
   ]
  },
  {
   "cell_type": "code",
   "execution_count": null,
   "id": "b23165ac-63c0-4007-ab3e-e0d2f2801cb8",
   "metadata": {},
   "outputs": [],
   "source": []
  }
 ],
 "metadata": {
  "kernelspec": {
   "display_name": "Python 3 (ipykernel)",
   "language": "python",
   "name": "python3"
  },
  "language_info": {
   "codemirror_mode": {
    "name": "ipython",
    "version": 3
   },
   "file_extension": ".py",
   "mimetype": "text/x-python",
   "name": "python",
   "nbconvert_exporter": "python",
   "pygments_lexer": "ipython3",
   "version": "3.9.18"
  }
 },
 "nbformat": 4,
 "nbformat_minor": 5
}
